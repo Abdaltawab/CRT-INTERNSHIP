{
 "cells": [
  {
   "cell_type": "markdown",
   "id": "d8445763",
   "metadata": {},
   "source": [
    "#  Step 1: Dataset Preparation\n"
   ]
  },
  {
   "cell_type": "code",
   "execution_count": 33,
   "id": "2464aca5",
   "metadata": {},
   "outputs": [],
   "source": [
    "import pandas as pd\n",
    "from sklearn.model_selection import train_test_split\n",
    "from sklearn.preprocessing import LabelEncoder\n",
    "from sklearn.neighbors import NearestNeighbors"
   ]
  },
  {
   "cell_type": "markdown",
   "id": "d7cc1ba5",
   "metadata": {},
   "source": [
    "# Load the Amazon Product Reviews dataset"
   ]
  },
  {
   "cell_type": "code",
   "execution_count": 34,
   "id": "78f6a4cd",
   "metadata": {},
   "outputs": [],
   "source": [
    "data = pd.read_csv('ratings_Beauty.csv')"
   ]
  },
  {
   "cell_type": "code",
   "execution_count": 35,
   "id": "b91eba1e",
   "metadata": {},
   "outputs": [],
   "source": [
    "encoder = LabelEncoder()\n",
    "data['UserId'] = encoder.fit_transform(data['UserId'])\n",
    "data['ProductId'] = encoder.fit_transform(data['ProductId'])"
   ]
  },
  {
   "cell_type": "markdown",
   "id": "431e631d",
   "metadata": {},
   "source": [
    "# Split the data into training and testing sets"
   ]
  },
  {
   "cell_type": "code",
   "execution_count": 36,
   "id": "1d037cd6",
   "metadata": {},
   "outputs": [],
   "source": [
    "# Split the data into training and testing sets\n",
    "train_data, test_data = train_test_split(data, test_size=0.2, random_state=42)\n"
   ]
  },
  {
   "cell_type": "markdown",
   "id": "75d23d42",
   "metadata": {},
   "source": [
    "# Create the kNN model"
   ]
  },
  {
   "cell_type": "code",
   "execution_count": 37,
   "id": "296ea629",
   "metadata": {},
   "outputs": [
    {
     "data": {
      "text/plain": [
       "NearestNeighbors(algorithm='brute', metric='cosine')"
      ]
     },
     "execution_count": 37,
     "metadata": {},
     "output_type": "execute_result"
    }
   ],
   "source": [
    "# Create the kNN model\n",
    "k = 5  # Number of neighbors to consider\n",
    "knn_model = NearestNeighbors(metric='cosine', algorithm='brute', n_neighbors=k)\n",
    "\n",
    "# Fit the model to the training data\n",
    "knn_model.fit(train_data[['UserId', 'ProductId']])\n"
   ]
  },
  {
   "cell_type": "markdown",
   "id": "9350bf93",
   "metadata": {},
   "source": [
    "# Define a function to recommend products to a user"
   ]
  },
  {
   "cell_type": "code",
   "execution_count": 38,
   "id": "9022e736",
   "metadata": {},
   "outputs": [],
   "source": [
    "# Define a function to recommend products to a user\n",
    "def recommend_products(UserId, num_recommendations):\n",
    "    # Find the k nearest neighbors of the user\n",
    "    _, indices = knn_model.kneighbors(train_data[train_data['UserId'] ==UserId][['UserId', 'ProductId']])\n",
    "\n",
    "    # Get the product IDs of the nearest neighbors\n",
    "    neighbor_ids = train_data.iloc[indices[0]]['ProductId'].values\n",
    "\n",
    "    # Count the occurrence of each product and sort by count\n",
    "    product_counts = pd.DataFrame(neighbor_ids, columns=['ProductId']).groupby('ProductId').size().reset_index(name='count')\n",
    "    product_counts = product_counts.sort_values(by='count', ascending=False)\n",
    "\n",
    "    # Get the top recommendations\n",
    "    recommendations = product_counts.head(num_recommendations)\n",
    "\n",
    "    # Convert product IDs back to original values\n",
    "    recommendations['ProductId'] = encoder.inverse_transform(recommendations['ProductId'])\n",
    "\n",
    "    return recommendations\n"
   ]
  },
  {
   "cell_type": "markdown",
   "id": "23c75986",
   "metadata": {},
   "source": [
    "# Specify the user ID for whom you want to generate recommendations"
   ]
  },
  {
   "cell_type": "code",
   "execution_count": 39,
   "id": "e343fc27",
   "metadata": {},
   "outputs": [
    {
     "name": "stdout",
     "output_type": "stream",
     "text": [
      "    ProductId  count\n",
      "0  B003BMGA6C      1\n",
      "1  B00508Y0EO      1\n",
      "2  B005Y5VL4U      1\n",
      "3  B008G8MRLS      1\n",
      "4  B009YA758M      1\n"
     ]
    }
   ],
   "source": [
    "UserId = 100 # Specify the user ID for whom you want to generate recommendations\n",
    "num_recommendations = 10 # Number of recommendations to generate\n",
    "\n",
    "recommended_products = recommend_products(UserId, num_recommendations)\n",
    "print(recommended_products)\n"
   ]
  },
  {
   "cell_type": "code",
   "execution_count": null,
   "id": "1540b1b4",
   "metadata": {},
   "outputs": [],
   "source": []
  },
  {
   "cell_type": "code",
   "execution_count": null,
   "id": "3a155cdd",
   "metadata": {},
   "outputs": [],
   "source": []
  },
  {
   "cell_type": "code",
   "execution_count": null,
   "id": "356239ac",
   "metadata": {},
   "outputs": [],
   "source": []
  },
  {
   "cell_type": "code",
   "execution_count": null,
   "id": "3b450a0c",
   "metadata": {},
   "outputs": [],
   "source": []
  },
  {
   "cell_type": "code",
   "execution_count": null,
   "id": "2b15b34d",
   "metadata": {},
   "outputs": [],
   "source": []
  }
 ],
 "metadata": {
  "kernelspec": {
   "display_name": "Python 3 (ipykernel)",
   "language": "python",
   "name": "python3"
  },
  "language_info": {
   "codemirror_mode": {
    "name": "ipython",
    "version": 3
   },
   "file_extension": ".py",
   "mimetype": "text/x-python",
   "name": "python",
   "nbconvert_exporter": "python",
   "pygments_lexer": "ipython3",
   "version": "3.9.13"
  }
 },
 "nbformat": 4,
 "nbformat_minor": 5
}
