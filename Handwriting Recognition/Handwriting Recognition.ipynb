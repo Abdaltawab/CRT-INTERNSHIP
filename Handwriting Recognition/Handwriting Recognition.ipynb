{
 "cells": [
  {
   "cell_type": "code",
   "execution_count": 5,
   "id": "50c63ae4",
   "metadata": {},
   "outputs": [],
   "source": [
    "import tensorflow as tf\n",
    "from tensorflow import keras\n",
    "import numpy as np\n",
    "import matplotlib.pyplot as plt\n",
    "import numpy as np\n",
    "import struct"
   ]
  },
  {
   "cell_type": "markdown",
   "id": "61cfd3dc",
   "metadata": {},
   "source": [
    "## Step 2: load the dataset"
   ]
  },
  {
   "cell_type": "code",
   "execution_count": null,
   "id": "65b46521",
   "metadata": {},
   "outputs": [],
   "source": [
    "\n",
    "def load_mnist_images(filename):\n",
    "    with open(filename, 'rb') as f:\n",
    "        magic, num_images, rows, cols = struct.unpack('>IIII', f.read(16))\n",
    "        images = np.fromfile(f, dtype=np.uint8).reshape(num_images, rows * cols)\n",
    "        images = images.astype(np.float64) / 255.0  # normalize to [0, 1]\n",
    "        return images\n",
    "\n",
    "def load_mnist_labels(filename):\n",
    "    with open(filename, 'rb') as f:\n",
    "        magic, num_labels = struct.unpack('>II', f.read(8))\n",
    "        labels = np.fromfile(f, dtype=np.uint8)\n",
    "        return labels"
   ]
  },
  {
   "cell_type": "code",
   "execution_count": null,
   "id": "de01bd3d",
   "metadata": {},
   "outputs": [],
   "source": [
    "\n",
    "X_train = load_mnist_images('train-images.idx3-ubyte')\n",
    "y_train = load_mnist_labels('train-labels.idx1-ubyte')\n",
    "X_test = load_mnist_images('t10k-images.idx3-ubyte')\n",
    "y_test = load_mnist_labels('t10k-labels.idx1-ubyte')\n"
   ]
  },
  {
   "cell_type": "markdown",
   "id": "9641bdf0",
   "metadata": {},
   "source": [
    "## Step 2: Standardize the dataset"
   ]
  },
  {
   "cell_type": "code",
   "execution_count": null,
   "id": "9df2434f",
   "metadata": {},
   "outputs": [],
   "source": [
    "# Step 2: Standardize the dataset\n",
    "def standardize(X):\n",
    "    mean = np.mean(X, axis=0)\n",
    "    std = np.std(X, axis=0)\n",
    "    std[std == 0] = 0.00000000000000001  # avoid division by zero\n",
    "    X = (X - mean) / std\n",
    "    return X\n",
    "\n",
    "X_train = standardize(X_train)\n",
    "X_test = standardize(X_test)\n"
   ]
  },
  {
   "cell_type": "markdown",
   "id": "ecc99e9c",
   "metadata": {},
   "source": [
    "# Step 3: Divide data into training and test sets"
   ]
  },
  {
   "cell_type": "code",
   "execution_count": null,
   "id": "31620d22",
   "metadata": {},
   "outputs": [],
   "source": [
    "\n",
    "def train_test_split(X, y, test_size):\n",
    "    split_index = int(X.shape[0] * (1 - test_size))\n",
    "    X_train = X[:split_index]\n",
    "    y_train = y[:split_index]\n",
    "    X_test = X[split_index:]\n",
    "    y_test = y[split_index:]\n",
    "    return X_train, y_train, X_test, y_test\n",
    "\n",
    "X_train, y_train, X_test, y_test = train_test_split(X_train, y_train, test_size=0.2)"
   ]
  },
  {
   "cell_type": "markdown",
   "id": "049eed7b",
   "metadata": {},
   "source": [
    "## Step 4: Apply one-hot encoding to labels\n"
   ]
  },
  {
   "cell_type": "code",
   "execution_count": null,
   "id": "87e14287",
   "metadata": {},
   "outputs": [],
   "source": [
    "\n",
    "def one_hot_encoding(labels, num_classes):\n",
    "    encoded_labels = np.zeros((len(labels), num_classes))\n",
    "    for i, label in enumerate(labels):\n",
    "        encoded_labels[i][label] = 1\n",
    "    return encoded_labels\n",
    "\n",
    "num_classes = 10\n",
    "y_train_encoded = one_hot_encoding(y_train, num_classes)\n",
    "y_test_encoded = one_hot_encoding(y_test, num_classes)\n"
   ]
  },
  {
   "cell_type": "markdown",
   "id": "1626d665",
   "metadata": {},
   "source": [
    "# Step 5: Build the model\n"
   ]
  },
  {
   "cell_type": "code",
   "execution_count": null,
   "id": "e8b165d1",
   "metadata": {},
   "outputs": [],
   "source": [
    "model = keras.Sequential([\n",
    "    keras.layers.Dense(128, activation='relu', input_shape=(784,)),\n",
    "    keras.layers.Dense(64, activation='relu'),\n",
    "    keras.layers.Dense(num_classes, activation='softmax')\n",
    "]\n"
   ]
  },
  {
   "cell_type": "markdown",
   "id": "fce324e0",
   "metadata": {},
   "source": [
    "## Step 6: Compile the model"
   ]
  },
  {
   "cell_type": "code",
   "execution_count": 18,
   "id": "f8c329b1",
   "metadata": {},
   "outputs": [],
   "source": [
    "model.compile(optimizer='adam',\n",
    "              loss='categorical_crossentropy',\n",
    "              metrics=['accuracy'])\n"
   ]
  },
  {
   "cell_type": "markdown",
   "id": "a9549c93",
   "metadata": {},
   "source": [
    "# Step 7: Train the model"
   ]
  },
  {
   "cell_type": "code",
   "execution_count": 19,
   "id": "c93301d1",
   "metadata": {},
   "outputs": [
    {
     "name": "stdout",
     "output_type": "stream",
     "text": [
      "Epoch 1/10\n",
      "1200/1200 [==============================] - 2s 1ms/step - loss: 0.2643 - accuracy: 0.9224 - val_loss: 0.1910 - val_accuracy: 0.9446\n",
      "Epoch 2/10\n",
      "1200/1200 [==============================] - 1s 1ms/step - loss: 0.1077 - accuracy: 0.9680 - val_loss: 0.1592 - val_accuracy: 0.9572\n",
      "Epoch 3/10\n",
      "1200/1200 [==============================] - 1s 1ms/step - loss: 0.0720 - accuracy: 0.9784 - val_loss: 0.1670 - val_accuracy: 0.9571\n",
      "Epoch 4/10\n",
      "1200/1200 [==============================] - 1s 1ms/step - loss: 0.0524 - accuracy: 0.9842 - val_loss: 0.1862 - val_accuracy: 0.9581\n",
      "Epoch 5/10\n",
      "1200/1200 [==============================] - 1s 1ms/step - loss: 0.0524 - accuracy: 0.9848 - val_loss: 0.2099 - val_accuracy: 0.9599\n",
      "Epoch 6/10\n",
      "1200/1200 [==============================] - 1s 1ms/step - loss: 0.0342 - accuracy: 0.9896 - val_loss: 0.2326 - val_accuracy: 0.9571\n",
      "Epoch 7/10\n",
      "1200/1200 [==============================] - 1s 1ms/step - loss: 0.0342 - accuracy: 0.9894 - val_loss: 0.2258 - val_accuracy: 0.9571\n",
      "Epoch 8/10\n",
      "1200/1200 [==============================] - 1s 1ms/step - loss: 0.0344 - accuracy: 0.9904 - val_loss: 0.2591 - val_accuracy: 0.9532\n",
      "Epoch 9/10\n",
      "1200/1200 [==============================] - 1s 1ms/step - loss: 0.0202 - accuracy: 0.9940 - val_loss: 0.2515 - val_accuracy: 0.9644\n",
      "Epoch 10/10\n",
      "1200/1200 [==============================] - 1s 1ms/step - loss: 0.0192 - accuracy: 0.9940 - val_loss: 0.2637 - val_accuracy: 0.9599\n"
     ]
    }
   ],
   "source": [
    "\n",
    "history = model.fit(X_train, y_train_encoded, epochs=10, batch_size=32, validation_split=0.2)\n",
    "\n"
   ]
  },
  {
   "cell_type": "markdown",
   "id": "38425bef",
   "metadata": {},
   "source": [
    "# Step 8: Evaluate the model"
   ]
  },
  {
   "cell_type": "code",
   "execution_count": 20,
   "id": "8d3d07e5",
   "metadata": {},
   "outputs": [
    {
     "name": "stdout",
     "output_type": "stream",
     "text": [
      "375/375 [==============================] - 0s 665us/step - loss: 0.2040 - accuracy: 0.9671\n",
      "Test accuracy: 0.9670833349227905\n"
     ]
    }
   ],
   "source": [
    "\n",
    "test_loss, test_acc = model.evaluate(X_test, y_test_encoded)\n",
    "print('Test accuracy:', test_acc)\n",
    "\n"
   ]
  },
  {
   "cell_type": "markdown",
   "id": "d1822051",
   "metadata": {},
   "source": [
    "# Step 9: Make predictions"
   ]
  },
  {
   "cell_type": "code",
   "execution_count": 21,
   "id": "2ec0fbf2",
   "metadata": {},
   "outputs": [
    {
     "name": "stdout",
     "output_type": "stream",
     "text": [
      "375/375 [==============================] - 0s 586us/step\n"
     ]
    }
   ],
   "source": [
    "\n",
    "predictions = model.predict(X_test)\n"
   ]
  },
  {
   "cell_type": "markdown",
   "id": "3b507286",
   "metadata": {},
   "source": [
    "# Visualize the accuracy and loss during training"
   ]
  },
  {
   "cell_type": "code",
   "execution_count": 23,
   "id": "ee4002aa",
   "metadata": {},
   "outputs": [
    {
     "data": {
      "image/png": "[encoded data removed]",
      "text/plain": [
       "<Figure size 1200x400 with 2 Axes>"
      ]
     },
     "metadata": {},
     "output_type": "display_data"
    }
   ],
   "source": [
    "# Visualize the accuracy and loss during training\n",
    "accuracy = history.history['accuracy']\n",
    "val_accuracy = history.history['val_accuracy']\n",
    "loss = history.history['loss']\n",
    "val_loss = history.history['val_loss']\n",
    "\n",
    "epochs = range(len(accuracy))\n",
    "\n",
    "plt.figure(figsize=(12, 4))\n",
    "plt.subplot(1, 2, 1)\n",
    "plt.plot(epochs, accuracy, 'r', label='Training accuracy')\n",
    "plt.plot(epochs, val_accuracy, 'b', label='Validation accuracy')\n",
    "plt.title('Training and Validation Accuracy')\n",
    "plt.xlabel('Epoch')\n",
    "plt.ylabel('Accuracy')\n",
    "plt.legend()\n",
    "\n",
    "plt.subplot(1, 2, 2)\n",
    "plt.plot(epochs, loss, 'r', label='Training loss')\n",
    "plt.plot(epochs, val_loss, 'b', label='Validation loss')\n",
    "plt.title('Training and Validation Loss')\n",
    "plt.xlabel('Epoch')\n",
    "plt.ylabel('Loss')\n",
    "plt.legend()\n",
    "\n",
    "plt.show()"
   ]
  },
  {
   "cell_type": "code",
   "execution_count": 9,
   "id": "4b601a05",
   "metadata": {},
   "outputs": [],
   "source": []
  },
  {
   "cell_type": "code",
   "execution_count": 10,
   "id": "4f63d099",
   "metadata": {},
   "outputs": [],
   "source": []
  },
  {
   "cell_type": "code",
   "execution_count": 11,
   "id": "a1103b5c",
   "metadata": {},
   "outputs": [],
   "source": []
  },
  {
   "cell_type": "code",
   "execution_count": 13,
   "id": "ba93cccd",
   "metadata": {},
   "outputs": [],
   "source": []
  },
  {
   "cell_type": "code",
   "execution_count": null,
   "id": "c6200854",
   "metadata": {},
   "outputs": [],
   "source": []
  },
  {
   "cell_type": "code",
   "execution_count": null,
   "id": "e2ebe218",
   "metadata": {},
   "outputs": [],
   "source": []
  }
 ],
 "metadata": {
  "kernelspec": {
   "display_name": "Python 3 (ipykernel)",
   "language": "python",
   "name": "python3"
  },
  "language_info": {
   "codemirror_mode": {
    "name": "ipython",
    "version": 3
   },
   "file_extension": ".py",
   "mimetype": "text/x-python",
   "name": "python",
   "nbconvert_exporter": "python",
   "pygments_lexer": "ipython3",
   "version": "3.9.13"
  }
 },
 "nbformat": 4,
 "nbformat_minor": 5
}
